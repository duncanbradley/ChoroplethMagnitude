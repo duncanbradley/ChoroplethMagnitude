{
 "cells": [
  {
   "cell_type": "code",
   "execution_count": 15,
   "id": "a87c0c0a",
   "metadata": {},
   "outputs": [],
   "source": [
    "from colorspacious import cspace_convert\n",
    "import matplotlib as mpl"
   ]
  },
  {
   "cell_type": "code",
   "execution_count": 16,
   "id": "9623904d",
   "metadata": {},
   "outputs": [
    {
     "data": {
      "text/plain": [
       "array([ 5.35840168e+01,  4.47118403e-03, -7.16147720e-03])"
      ]
     },
     "execution_count": 16,
     "metadata": {},
     "output_type": "execute_result"
    }
   ],
   "source": [
    "cspace_convert([128, 128, 128], \"sRGB255\", \"CIELab\")"
   ]
  },
  {
   "cell_type": "code",
   "execution_count": 17,
   "id": "65302f4d",
   "metadata": {},
   "outputs": [],
   "source": [
    "splits = 1000\n",
    "colour_values = mpl.cm.Reds(np.linspace(0, 1, splits))"
   ]
  },
  {
   "cell_type": "code",
   "execution_count": 18,
   "id": "992dcd71",
   "metadata": {},
   "outputs": [
    {
     "data": {
      "text/plain": [
       "array([[1.        , 0.96078431, 0.94117647],\n",
       "       [1.        , 0.96078431, 0.94117647],\n",
       "       [1.        , 0.96078431, 0.94117647],\n",
       "       ...,\n",
       "       [0.40392157, 0.        , 0.05098039],\n",
       "       [0.40392157, 0.        , 0.05098039],\n",
       "       [0.40392157, 0.        , 0.05098039]])"
      ]
     },
     "execution_count": 18,
     "metadata": {},
     "output_type": "execute_result"
    }
   ],
   "source": [
    "colour_values_rgb = colour_values[:, :3]\n",
    "colour_values_rgb\n"
   ]
  },
  {
   "cell_type": "code",
   "execution_count": 20,
   "id": "c0c2f459",
   "metadata": {},
   "outputs": [
    {
     "data": {
      "text/plain": [
       "array([[97.16752233,  2.50184937,  3.58068877],\n",
       "       [97.16752233,  2.50184937,  3.58068877],\n",
       "       [97.16752233,  2.50184937,  3.58068877],\n",
       "       ...,\n",
       "       [19.68974764, 41.48725414, 24.73234583],\n",
       "       [19.68974764, 41.48725414, 24.73234583],\n",
       "       [19.68974764, 41.48725414, 24.73234583]])"
      ]
     },
     "execution_count": 20,
     "metadata": {},
     "output_type": "execute_result"
    }
   ],
   "source": [
    "cspace_convert(colour_values_rgb, \"sRGB1\", \"CIELab\")"
   ]
  },
  {
   "cell_type": "code",
   "execution_count": null,
   "id": "b9103690",
   "metadata": {},
   "outputs": [],
   "source": []
  }
 ],
 "metadata": {
  "kernelspec": {
   "display_name": "Python [conda env:data_science2] *",
   "language": "python",
   "name": "conda-env-data_science2-py"
  },
  "language_info": {
   "codemirror_mode": {
    "name": "ipython",
    "version": 3
   },
   "file_extension": ".py",
   "mimetype": "text/x-python",
   "name": "python",
   "nbconvert_exporter": "python",
   "pygments_lexer": "ipython3",
   "version": "3.9.12"
  }
 },
 "nbformat": 4,
 "nbformat_minor": 5
}
